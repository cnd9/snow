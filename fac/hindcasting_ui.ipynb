{
 "cells": [
  {
   "cell_type": "markdown",
   "id": "58bfa3f7",
   "metadata": {},
   "source": [
    "# 2022-2023 Example"
   ]
  },
  {
   "cell_type": "code",
   "execution_count": 78,
   "id": "3acf5d6e",
   "metadata": {},
   "outputs": [],
   "source": [
    "import pandas as pd\n",
    "import json\n",
    "from datetime import datetime, timedelta\n",
    "pd.set_option('display.max_columns', None)"
   ]
  },
  {
   "cell_type": "markdown",
   "id": "54d1ca51",
   "metadata": {},
   "source": [
    "## Datasets"
   ]
  },
  {
   "cell_type": "code",
   "execution_count": 94,
   "id": "08c20402",
   "metadata": {},
   "outputs": [],
   "source": [
    "av_obs_df = pd.read_csv('../data/fac_avalanche_2022_2023.csv')\n",
    "obs_df = pd.read_csv('../data/fac_obs_2022_2023.csv')\n",
    "forecast_df = pd.read_csv('../data/fac_forecast_2022_2023.csv')\n",
    "weather_df = pd.read_csv('../data/fac_weather_2022_2023.csv')\n",
    "forecast_df['problems'] = forecast_df['problems'].apply(lambda x:json.loads(x))"
   ]
  },
  {
   "cell_type": "markdown",
   "id": "72e2bfa6",
   "metadata": {},
   "source": [
    "# Example: Feb 8 2023"
   ]
  },
  {
   "cell_type": "code",
   "execution_count": 45,
   "id": "0beaeaac",
   "metadata": {},
   "outputs": [
    {
     "name": "stdout",
     "output_type": "stream",
     "text": [
      "Wednesday\n"
     ]
    }
   ],
   "source": [
    "date = '2023-02-08'\n",
    "weekdays = ['Monday','Tuesday','Wednesday','Thursday','Friday','Saturday','Sunday']\n",
    "weekday = weekdays[pd.to_datetime(date).weekday()]\n",
    "print(weekday)"
   ]
  },
  {
   "cell_type": "markdown",
   "id": "b3b8450d",
   "metadata": {},
   "source": [
    "# 1. Shown to Hindcaster"
   ]
  },
  {
   "cell_type": "markdown",
   "id": "4058a45a",
   "metadata": {},
   "source": [
    "## 1.1 Observations Leading Up to Hindcast Date\n",
    "##### Please review all observations on the week prior to your hindcast date of Feb 8, 2023, both the avalanche tab and the observations tab\n",
    "##### Questions to Blase: \n",
    "1)Should we filter these on FAC forecasters and professionals only?\n",
    "<br>2)Privately submitted obs?\n",
    "<br>3) How do forecasters typically consume this information/how can we best replicate that in the hindcast UI"
   ]
  },
  {
   "cell_type": "code",
   "execution_count": 119,
   "id": "63c42284",
   "metadata": {},
   "outputs": [],
   "source": [
    "date_obj = datetime.strptime(date, '%Y-%m-%d')\n",
    "day_prior = date_obj - timedelta(days=1)\n",
    "seven_days_prior = date_obj - timedelta(days=7)\n",
    "day_prior_str = day_prior.strftime('%Y-%m-%d')\n",
    "next_day_str = (date_obj + timedelta(days=1)).strftime('%Y-%m-%d')\n",
    "seven_days_prior_str = seven_days_prior.strftime('%Y-%m-%d')\n",
    "link = f\"https://flatheadavalanche.org/observations/read-observations/#/view/observations?startDate=%22{seven_days_prior_str}%22&endDate=%22{day_prior_str}%22&season={2023}\""
   ]
  },
  {
   "cell_type": "code",
   "execution_count": 52,
   "id": "c064440d",
   "metadata": {},
   "outputs": [
    {
     "data": {
      "text/html": [
       "\n",
       "        <iframe\n",
       "            width=\"700\"\n",
       "            height=\"400\"\n",
       "            src=\"https://flatheadavalanche.org/observations/read-observations/#/view/observations?startDate=%222023-02-01%22&endDate=%222023-02-07%22&season=2023\"\n",
       "            frameborder=\"0\"\n",
       "            allowfullscreen\n",
       "            \n",
       "        ></iframe>\n",
       "        "
      ],
      "text/plain": [
       "<IPython.lib.display.IFrame at 0x7b8a311a8d00>"
      ]
     },
     "metadata": {},
     "output_type": "display_data"
    }
   ],
   "source": [
    "from IPython.display import IFrame\n",
    "display(IFrame(link, width=700, height=400))"
   ]
  },
  {
   "cell_type": "markdown",
   "id": "3fb6e4c1",
   "metadata": {},
   "source": [
    "## 1.2 Forecasted Danger and Problems for Feb 7 2023"
   ]
  },
  {
   "cell_type": "code",
   "execution_count": 117,
   "id": "fa94dc48",
   "metadata": {},
   "outputs": [
    {
     "data": {
      "text/html": [
       "<div>\n",
       "<style scoped>\n",
       "    .dataframe tbody tr th:only-of-type {\n",
       "        vertical-align: middle;\n",
       "    }\n",
       "\n",
       "    .dataframe tbody tr th {\n",
       "        vertical-align: top;\n",
       "    }\n",
       "\n",
       "    .dataframe thead th {\n",
       "        text-align: right;\n",
       "    }\n",
       "</style>\n",
       "<table border=\"1\" class=\"dataframe\">\n",
       "  <thead>\n",
       "    <tr style=\"text-align: right;\">\n",
       "      <th></th>\n",
       "      <th>author</th>\n",
       "      <th>date</th>\n",
       "      <th>zone</th>\n",
       "      <th>forecast</th>\n",
       "      <th>problems</th>\n",
       "      <th>bottom_line</th>\n",
       "      <th>discussion</th>\n",
       "    </tr>\n",
       "  </thead>\n",
       "  <tbody>\n",
       "    <tr>\n",
       "      <th>61</th>\n",
       "      <td>Cam Johnson</td>\n",
       "      <td>2023-02-07</td>\n",
       "      <td>Whitefish Range</td>\n",
       "      <td>{'upper': 'Moderate', 'middle': 'Moderate', 'l...</td>\n",
       "      <td>[{'problem_type': ' Wind Slab', 'problem_numbe...</td>\n",
       "      <td>Moderate wind speeds out of the southwest cont...</td>\n",
       "      <td>A pacific cold front approaching the forecast ...</td>\n",
       "    </tr>\n",
       "    <tr>\n",
       "      <th>189</th>\n",
       "      <td>Cam Johnson</td>\n",
       "      <td>2023-02-07</td>\n",
       "      <td>Swan Range</td>\n",
       "      <td>{'upper': 'Moderate', 'middle': 'Moderate', 'l...</td>\n",
       "      <td>[{'problem_type': ' Persistent Slab', 'problem...</td>\n",
       "      <td>Avoid areas where you see snow being transport...</td>\n",
       "      <td>A pacific cold front approaching the forecast ...</td>\n",
       "    </tr>\n",
       "    <tr>\n",
       "      <th>318</th>\n",
       "      <td>Cam Johnson</td>\n",
       "      <td>2023-02-07</td>\n",
       "      <td>Flathead Range &amp; Glacier NP</td>\n",
       "      <td>{'upper': 'Moderate', 'middle': 'Moderate', 'l...</td>\n",
       "      <td>[{'problem_type': ' Persistent Slab', 'problem...</td>\n",
       "      <td>Sustained winds out of the southwest continue ...</td>\n",
       "      <td>A pacific cold front approaching the forecast ...</td>\n",
       "    </tr>\n",
       "  </tbody>\n",
       "</table>\n",
       "</div>"
      ],
      "text/plain": [
       "          author        date                         zone  \\\n",
       "61   Cam Johnson  2023-02-07              Whitefish Range   \n",
       "189  Cam Johnson  2023-02-07                   Swan Range   \n",
       "318  Cam Johnson  2023-02-07  Flathead Range & Glacier NP   \n",
       "\n",
       "                                              forecast  \\\n",
       "61   {'upper': 'Moderate', 'middle': 'Moderate', 'l...   \n",
       "189  {'upper': 'Moderate', 'middle': 'Moderate', 'l...   \n",
       "318  {'upper': 'Moderate', 'middle': 'Moderate', 'l...   \n",
       "\n",
       "                                              problems  \\\n",
       "61   [{'problem_type': ' Wind Slab', 'problem_numbe...   \n",
       "189  [{'problem_type': ' Persistent Slab', 'problem...   \n",
       "318  [{'problem_type': ' Persistent Slab', 'problem...   \n",
       "\n",
       "                                           bottom_line  \\\n",
       "61   Moderate wind speeds out of the southwest cont...   \n",
       "189  Avoid areas where you see snow being transport...   \n",
       "318  Sustained winds out of the southwest continue ...   \n",
       "\n",
       "                                            discussion  \n",
       "61   A pacific cold front approaching the forecast ...  \n",
       "189  A pacific cold front approaching the forecast ...  \n",
       "318  A pacific cold front approaching the forecast ...  "
      ]
     },
     "execution_count": 117,
     "metadata": {},
     "output_type": "execute_result"
    }
   ],
   "source": [
    "previous_forecast_rows"
   ]
  },
  {
   "cell_type": "code",
   "execution_count": 59,
   "id": "7393a931",
   "metadata": {},
   "outputs": [
    {
     "name": "stdout",
     "output_type": "stream",
     "text": [
      "\n",
      "\n",
      "--------Whitefish Range\n",
      "Forecast:{'upper': 'Moderate', 'middle': 'Moderate', 'lower': 'Low'}\n",
      "\n",
      "\n",
      "--------Swan Range\n",
      "Forecast:{'upper': 'Moderate', 'middle': 'Moderate', 'lower': 'Low'}\n",
      "\n",
      "\n",
      "--------Flathead Range & Glacier NP\n",
      "Forecast:{'upper': 'Moderate', 'middle': 'Moderate', 'lower': 'Low'}\n",
      "\n",
      "\n",
      "\n",
      "--------Whitefish Range\n",
      "Problem Type:  Wind Slab\n",
      "Problem Number: 1\n",
      "Likelihood: possible\n",
      "Size: Small (D1), Large (D2)\n",
      "Aspect/Elevation: Upper: north, northeast, east, southeast, northwest | Middle: north, northeast, east, southeast, northwest\n",
      "Discussion: Relentless moderate and strong winds out of the southwest continue to drift snow into firm slabs. Hard slabs of drifted snow can break above you and easily sweep you off your feet. These will be more sensitive to the weight of a rider where they rest over buried weak layers. Identify areas of concern by textured surfaces or dune-shaped drifts. Cracking around your feet or machine is a sign that slabs may be ripe for human triggering. Utilize small, inconsequential terrain features with a partner in a safe location to test how sensitive new slabs of drifted snow are. Sticking to slopes sheltered from the wind will offer a better and safer experience.\n",
      "\n",
      "--------------------------------------------------\n",
      "\n",
      "\n",
      "\n",
      "\n",
      "--------Swan Range\n",
      "Problem Type:  Wind Slab\n",
      "Problem Number: 1\n",
      "Likelihood: possible\n",
      "Size: Small (D1), Large (D2)\n",
      "Aspect/Elevation: Upper: north, northeast, east, southeast, northwest | Middle: north, northeast, east, southeast, northwest\n",
      "Discussion: Relentless moderate and strong winds out of the southwest continue to drift snow into firm slabs. Hard slabs of drifted snow can break above you and easily sweep you off your feet. These will be more sensitive to the weight of a rider where they rest over buried weak layers. Identify areas of concern by textured surfaces or dune-shaped drifts. Cracking around your feet or machine is a sign that slabs may be ripe for human triggering. Utilize small, inconsequential terrain features with a partner in a safe location to test how sensitive new slabs of drifted snow are. Sticking to slopes sheltered from the wind will offer a better and safer experience.\n",
      "\n",
      "--------------------------------------------------\n",
      "\n",
      "Problem Type:  Persistent Slab\n",
      "Problem Number: 2\n",
      "Likelihood: possible\n",
      "Size: Small (D1), Large (D2)\n",
      "Aspect/Elevation: Upper: north, northeast, east, southeast, northwest | Middle: north, northeast, east, southeast, northwest\n",
      "Discussion: Buried layers of surface hoar and facets rest 2 to 4 feet below the surface. Avoid common trigger points on the slope by steering around steep break overs or possible thin spots. If triggered, slabs may break wide distances and be difficult to escape. All reported avalanches in the last month are on north through east-facing slopes. The last reported avalanche likely failing on this layer was on January 25th. Since then, snowpit tests have shown a mixed bag of propagating and non-propagating results. \n",
      "\n",
      "--------------------------------------------------\n",
      "\n",
      "\n",
      "\n",
      "\n",
      "--------Flathead Range & Glacier NP\n",
      "Problem Type:  Wind Slab\n",
      "Problem Number: 1\n",
      "Likelihood: possible\n",
      "Size: Small (D1), Large (D2)\n",
      "Aspect/Elevation: Upper: north, northeast, east, southeast, northwest | Middle: north, northeast, east, southeast, northwest\n",
      "Discussion: Relentless moderate and strong winds out of the southwest continue to drift snow into firm slabs. Hard slabs of drifted snow can break above you and easily sweep you off your feet. These will be more sensitive to the weight of a rider where they rest over buried weak layers or a slick crust. Identify areas of concern by textured surfaces or dune-shaped drifts. Cracking around your feet or machine is a sign that slabs may be ripe for human triggering. Utilize small, inconsequential terrain features with a partner in a safe location to test how sensitive new slabs of drifted snow are. Sticking to slopes sheltered from the wind will offer a better and safer experience.\n",
      "\n",
      "--------------------------------------------------\n",
      "\n",
      "Problem Type:  Persistent Slab\n",
      "Problem Number: 2\n",
      "Likelihood: possible\n",
      "Size: Small (D1), Large (D2)\n",
      "Aspect/Elevation: Upper: north, northeast, east, southeast, northwest | Middle: north, northeast, east, southeast, northwest\n",
      "Discussion: A facet/crust combination buried 1 to 2 feet below the surface remains a concern. This layer is slowly getting loaded by wind-transported snow and dribs and drabs of new snow. Give areas where this layer exists a margin for error, especially where winds drifted snow into a more cohesive slab. Selecting slopes free of convexities and slopes with smooth runouts are two ways to build in those margins to your travel day. \n",
      "\n",
      "--------------------------------------------------\n",
      "\n"
     ]
    }
   ],
   "source": [
    "previous_forecast_rows = forecast_df[forecast_df.date == day_prior_str].drop(columns = 'Unnamed: 0')\n",
    "for zone, forecast in zip(previous_forecast_rows.zone, previous_forecast_rows.forecast):\n",
    "    print(f'\\n\\n--------{zone}')\n",
    "    print(f'Forecast:{forecast}')\n",
    "for zone, problems in zip(previous_forecast_rows.zone, previous_forecast_rows.problems):\n",
    "    print(f'\\n\\n\\n--------{zone}')\n",
    "    sorted_avalanche_problems = sorted(problems, key=lambda x: x['problem_number'])\n",
    "    for problem in sorted_avalanche_problems:\n",
    "        print(f\"Problem Type: {problem['problem_type']}\")\n",
    "        print(f\"Problem Number: {problem['problem_number']}\")\n",
    "        print(f\"Likelihood: {problem['likelihood']}\")\n",
    "        print(f\"Size: {', '.join([size for size in problem['size'] if size])}\")\n",
    "        aspect_elevation_str = \" | \".join([f\"{key.capitalize()}: {', '.join(values)}\" for key, values in problem['aspect_elevation'].items() if values])\n",
    "        print(f\"Aspect/Elevation: {aspect_elevation_str}\")\n",
    "        print(f\"Discussion: {problem['discussion']}\")\n",
    "        print(\"\\n\" + \"-\"*50 + \"\\n\")"
   ]
  },
  {
   "cell_type": "markdown",
   "id": "e5f5f6ab",
   "metadata": {},
   "source": [
    "## 1.3 Forecasted Weather on the Morning of Feb 8 2023\n",
    "\n",
    "#### This weather info is just from the av forecast.  Should get better data here"
   ]
  },
  {
   "cell_type": "code",
   "execution_count": 105,
   "id": "7e504513",
   "metadata": {},
   "outputs": [
    {
     "data": {
      "text/plain": [
       "'Whitefish Range'"
      ]
     },
     "metadata": {},
     "output_type": "display_data"
    },
    {
     "data": {
      "text/html": [
       "<div>\n",
       "<style scoped>\n",
       "    .dataframe tbody tr th:only-of-type {\n",
       "        vertical-align: middle;\n",
       "    }\n",
       "\n",
       "    .dataframe tbody tr th {\n",
       "        vertical-align: top;\n",
       "    }\n",
       "\n",
       "    .dataframe thead th {\n",
       "        text-align: right;\n",
       "    }\n",
       "</style>\n",
       "<table border=\"1\" class=\"dataframe\">\n",
       "  <thead>\n",
       "    <tr style=\"text-align: right;\">\n",
       "      <th></th>\n",
       "      <th>Whitefish Range</th>\n",
       "      <th>Weather Forecast for Today</th>\n",
       "    </tr>\n",
       "  </thead>\n",
       "  <tbody>\n",
       "    <tr>\n",
       "      <th>360</th>\n",
       "      <td>Cloud Cover</td>\n",
       "      <td>Mostly Cloudy</td>\n",
       "    </tr>\n",
       "    <tr>\n",
       "      <th>361</th>\n",
       "      <td>Temperatures</td>\n",
       "      <td>21 to 28 ° F</td>\n",
       "    </tr>\n",
       "    <tr>\n",
       "      <th>362</th>\n",
       "      <td>Wind Direction</td>\n",
       "      <td>West</td>\n",
       "    </tr>\n",
       "    <tr>\n",
       "      <th>363</th>\n",
       "      <td>Wind Speed</td>\n",
       "      <td>24G53</td>\n",
       "    </tr>\n",
       "    <tr>\n",
       "      <th>364</th>\n",
       "      <td>Snowfall</td>\n",
       "      <td>1\" to 2\"</td>\n",
       "    </tr>\n",
       "    <tr>\n",
       "      <th>365</th>\n",
       "      <td>Snow Line</td>\n",
       "      <td>1500'</td>\n",
       "    </tr>\n",
       "  </tbody>\n",
       "</table>\n",
       "</div>"
      ],
      "text/plain": [
       "    Whitefish Range Weather Forecast for Today\n",
       "360     Cloud Cover              Mostly Cloudy\n",
       "361    Temperatures               21 to 28 ° F\n",
       "362  Wind Direction                       West\n",
       "363      Wind Speed                      24G53\n",
       "364        Snowfall                   1\" to 2\"\n",
       "365       Snow Line                      1500'"
      ]
     },
     "metadata": {},
     "output_type": "display_data"
    },
    {
     "data": {
      "text/plain": [
       "'Swan Range'"
      ]
     },
     "metadata": {},
     "output_type": "display_data"
    },
    {
     "data": {
      "text/html": [
       "<div>\n",
       "<style scoped>\n",
       "    .dataframe tbody tr th:only-of-type {\n",
       "        vertical-align: middle;\n",
       "    }\n",
       "\n",
       "    .dataframe tbody tr th {\n",
       "        vertical-align: top;\n",
       "    }\n",
       "\n",
       "    .dataframe thead th {\n",
       "        text-align: right;\n",
       "    }\n",
       "</style>\n",
       "<table border=\"1\" class=\"dataframe\">\n",
       "  <thead>\n",
       "    <tr style=\"text-align: right;\">\n",
       "      <th></th>\n",
       "      <th>Swan Range</th>\n",
       "      <th>Weather Forecast for Today</th>\n",
       "    </tr>\n",
       "  </thead>\n",
       "  <tbody>\n",
       "    <tr>\n",
       "      <th>1128</th>\n",
       "      <td>Cloud Cover</td>\n",
       "      <td>Mostly Cloudy</td>\n",
       "    </tr>\n",
       "    <tr>\n",
       "      <th>1129</th>\n",
       "      <td>Temperatures</td>\n",
       "      <td>21 to 25 ° F</td>\n",
       "    </tr>\n",
       "    <tr>\n",
       "      <th>1130</th>\n",
       "      <td>Wind Direction</td>\n",
       "      <td>West</td>\n",
       "    </tr>\n",
       "    <tr>\n",
       "      <th>1131</th>\n",
       "      <td>Wind Speed</td>\n",
       "      <td>29G63</td>\n",
       "    </tr>\n",
       "    <tr>\n",
       "      <th>1132</th>\n",
       "      <td>Snowfall</td>\n",
       "      <td>4\" to 6\"</td>\n",
       "    </tr>\n",
       "    <tr>\n",
       "      <th>1133</th>\n",
       "      <td>Snow Line</td>\n",
       "      <td>1500'</td>\n",
       "    </tr>\n",
       "  </tbody>\n",
       "</table>\n",
       "</div>"
      ],
      "text/plain": [
       "          Swan Range Weather Forecast for Today\n",
       "1128     Cloud Cover              Mostly Cloudy\n",
       "1129    Temperatures               21 to 25 ° F\n",
       "1130  Wind Direction                       West\n",
       "1131      Wind Speed                      29G63\n",
       "1132        Snowfall                   4\" to 6\"\n",
       "1133       Snow Line                      1500'"
      ]
     },
     "metadata": {},
     "output_type": "display_data"
    },
    {
     "data": {
      "text/plain": [
       "'Flathead Range & Glacier NP'"
      ]
     },
     "metadata": {},
     "output_type": "display_data"
    },
    {
     "data": {
      "text/html": [
       "<div>\n",
       "<style scoped>\n",
       "    .dataframe tbody tr th:only-of-type {\n",
       "        vertical-align: middle;\n",
       "    }\n",
       "\n",
       "    .dataframe tbody tr th {\n",
       "        vertical-align: top;\n",
       "    }\n",
       "\n",
       "    .dataframe thead th {\n",
       "        text-align: right;\n",
       "    }\n",
       "</style>\n",
       "<table border=\"1\" class=\"dataframe\">\n",
       "  <thead>\n",
       "    <tr style=\"text-align: right;\">\n",
       "      <th></th>\n",
       "      <th>Flathead Range &amp; Glacier NP</th>\n",
       "      <th>Weather Forecast for Today</th>\n",
       "    </tr>\n",
       "  </thead>\n",
       "  <tbody>\n",
       "    <tr>\n",
       "      <th>1902</th>\n",
       "      <td>Cloud Cover</td>\n",
       "      <td>Mostly Cloudy</td>\n",
       "    </tr>\n",
       "    <tr>\n",
       "      <th>1903</th>\n",
       "      <td>Temperatures</td>\n",
       "      <td>18 to 25 ° F</td>\n",
       "    </tr>\n",
       "    <tr>\n",
       "      <th>1904</th>\n",
       "      <td>Wind Direction</td>\n",
       "      <td>West</td>\n",
       "    </tr>\n",
       "    <tr>\n",
       "      <th>1905</th>\n",
       "      <td>Wind Speed</td>\n",
       "      <td>29G63</td>\n",
       "    </tr>\n",
       "    <tr>\n",
       "      <th>1906</th>\n",
       "      <td>Snowfall</td>\n",
       "      <td>2\" to 4\"</td>\n",
       "    </tr>\n",
       "    <tr>\n",
       "      <th>1907</th>\n",
       "      <td>Snow Line</td>\n",
       "      <td>1500'</td>\n",
       "    </tr>\n",
       "  </tbody>\n",
       "</table>\n",
       "</div>"
      ],
      "text/plain": [
       "     Flathead Range & Glacier NP Weather Forecast for Today\n",
       "1902                 Cloud Cover              Mostly Cloudy\n",
       "1903                Temperatures               18 to 25 ° F\n",
       "1904              Wind Direction                       West\n",
       "1905                  Wind Speed                      29G63\n",
       "1906                    Snowfall                   2\" to 4\"\n",
       "1907                   Snow Line                      1500'"
      ]
     },
     "metadata": {},
     "output_type": "display_data"
    }
   ],
   "source": [
    "weather = weather_df[weather_df.date==date]\n",
    "areas = ['Whitefish Range','Swan Range','Flathead Range & Glacier NP']\n",
    "for area in areas:\n",
    "    display(area)\n",
    "    display(weather[weather[area].notnull()][[area,'Weather Forecast for Today']])"
   ]
  },
  {
   "cell_type": "code",
   "execution_count": null,
   "id": "282fa883",
   "metadata": {},
   "outputs": [],
   "source": []
  },
  {
   "cell_type": "markdown",
   "id": "18a9aa4e",
   "metadata": {},
   "source": [
    "## 1.4 Actual Weather on Feb 8 2023"
   ]
  },
  {
   "cell_type": "code",
   "execution_count": null,
   "id": "87b2cfc3",
   "metadata": {},
   "outputs": [],
   "source": [
    "# toby"
   ]
  },
  {
   "cell_type": "code",
   "execution_count": 107,
   "id": "e02fd677",
   "metadata": {},
   "outputs": [
    {
     "data": {
      "text/plain": [
       "'Whitefish Range'"
      ]
     },
     "metadata": {},
     "output_type": "display_data"
    },
    {
     "data": {
      "text/html": [
       "<div>\n",
       "<style scoped>\n",
       "    .dataframe tbody tr th:only-of-type {\n",
       "        vertical-align: middle;\n",
       "    }\n",
       "\n",
       "    .dataframe tbody tr th {\n",
       "        vertical-align: top;\n",
       "    }\n",
       "\n",
       "    .dataframe thead th {\n",
       "        text-align: right;\n",
       "    }\n",
       "</style>\n",
       "<table border=\"1\" class=\"dataframe\">\n",
       "  <thead>\n",
       "    <tr style=\"text-align: right;\">\n",
       "      <th></th>\n",
       "      <th>Whitefish Range</th>\n",
       "      <th>Conditions in the last 24hrsWMR Summit</th>\n",
       "    </tr>\n",
       "  </thead>\n",
       "  <tbody>\n",
       "    <tr>\n",
       "      <th>354</th>\n",
       "      <td>Cloud Cover</td>\n",
       "      <td>Mostly Cloudy</td>\n",
       "    </tr>\n",
       "    <tr>\n",
       "      <th>355</th>\n",
       "      <td>Temperatures</td>\n",
       "      <td>Low: 14° F | High: 22° F</td>\n",
       "    </tr>\n",
       "    <tr>\n",
       "      <th>356</th>\n",
       "      <td>Wind Direction</td>\n",
       "      <td>Southwest</td>\n",
       "    </tr>\n",
       "    <tr>\n",
       "      <th>357</th>\n",
       "      <td>Wind Speed</td>\n",
       "      <td>11G29mph</td>\n",
       "    </tr>\n",
       "    <tr>\n",
       "      <th>358</th>\n",
       "      <td>Snowfall</td>\n",
       "      <td>Trace</td>\n",
       "    </tr>\n",
       "    <tr>\n",
       "      <th>359</th>\n",
       "      <td>Snow Line</td>\n",
       "      <td>1500'</td>\n",
       "    </tr>\n",
       "  </tbody>\n",
       "</table>\n",
       "</div>"
      ],
      "text/plain": [
       "    Whitefish Range Conditions in the last 24hrsWMR Summit\n",
       "354     Cloud Cover                          Mostly Cloudy\n",
       "355    Temperatures               Low: 14° F | High: 22° F\n",
       "356  Wind Direction                              Southwest\n",
       "357      Wind Speed                               11G29mph\n",
       "358        Snowfall                                  Trace\n",
       "359       Snow Line                                  1500'"
      ]
     },
     "metadata": {},
     "output_type": "display_data"
    },
    {
     "data": {
      "text/plain": [
       "'Swan Range'"
      ]
     },
     "metadata": {},
     "output_type": "display_data"
    },
    {
     "data": {
      "text/html": [
       "<div>\n",
       "<style scoped>\n",
       "    .dataframe tbody tr th:only-of-type {\n",
       "        vertical-align: middle;\n",
       "    }\n",
       "\n",
       "    .dataframe tbody tr th {\n",
       "        vertical-align: top;\n",
       "    }\n",
       "\n",
       "    .dataframe thead th {\n",
       "        text-align: right;\n",
       "    }\n",
       "</style>\n",
       "<table border=\"1\" class=\"dataframe\">\n",
       "  <thead>\n",
       "    <tr style=\"text-align: right;\">\n",
       "      <th></th>\n",
       "      <th>Swan Range</th>\n",
       "      <th>Conditions in the last 24hrsNoisy Basin/Aeneas Ridge</th>\n",
       "    </tr>\n",
       "  </thead>\n",
       "  <tbody>\n",
       "    <tr>\n",
       "      <th>1122</th>\n",
       "      <td>Cloud Cover</td>\n",
       "      <td>Mostly Cloudy</td>\n",
       "    </tr>\n",
       "    <tr>\n",
       "      <th>1123</th>\n",
       "      <td>Temperatures</td>\n",
       "      <td>Low: 22° F | High: 28° F</td>\n",
       "    </tr>\n",
       "    <tr>\n",
       "      <th>1124</th>\n",
       "      <td>Wind Direction</td>\n",
       "      <td>Southwest</td>\n",
       "    </tr>\n",
       "    <tr>\n",
       "      <th>1125</th>\n",
       "      <td>Wind Speed</td>\n",
       "      <td>5G24mph</td>\n",
       "    </tr>\n",
       "    <tr>\n",
       "      <th>1126</th>\n",
       "      <td>Snowfall</td>\n",
       "      <td>Trace</td>\n",
       "    </tr>\n",
       "    <tr>\n",
       "      <th>1127</th>\n",
       "      <td>Snow Line</td>\n",
       "      <td>1500'</td>\n",
       "    </tr>\n",
       "  </tbody>\n",
       "</table>\n",
       "</div>"
      ],
      "text/plain": [
       "          Swan Range Conditions in the last 24hrsNoisy Basin/Aeneas Ridge\n",
       "1122     Cloud Cover                                      Mostly Cloudy  \n",
       "1123    Temperatures                           Low: 22° F | High: 28° F  \n",
       "1124  Wind Direction                                          Southwest  \n",
       "1125      Wind Speed                                            5G24mph  \n",
       "1126        Snowfall                                              Trace  \n",
       "1127       Snow Line                                              1500'  "
      ]
     },
     "metadata": {},
     "output_type": "display_data"
    },
    {
     "data": {
      "text/plain": [
       "'Flathead Range & Glacier NP'"
      ]
     },
     "metadata": {},
     "output_type": "display_data"
    },
    {
     "data": {
      "text/html": [
       "<div>\n",
       "<style scoped>\n",
       "    .dataframe tbody tr th:only-of-type {\n",
       "        vertical-align: middle;\n",
       "    }\n",
       "\n",
       "    .dataframe tbody tr th {\n",
       "        vertical-align: top;\n",
       "    }\n",
       "\n",
       "    .dataframe thead th {\n",
       "        text-align: right;\n",
       "    }\n",
       "</style>\n",
       "<table border=\"1\" class=\"dataframe\">\n",
       "  <thead>\n",
       "    <tr style=\"text-align: right;\">\n",
       "      <th></th>\n",
       "      <th>Flathead Range &amp; Glacier NP</th>\n",
       "      <th>Conditions in the last 24hrs</th>\n",
       "    </tr>\n",
       "  </thead>\n",
       "  <tbody>\n",
       "    <tr>\n",
       "      <th>1896</th>\n",
       "      <td>Cloud Cover</td>\n",
       "      <td>Mostly Cloudy</td>\n",
       "    </tr>\n",
       "    <tr>\n",
       "      <th>1897</th>\n",
       "      <td>Temperatures</td>\n",
       "      <td>Low: 14° F | High: 22° F</td>\n",
       "    </tr>\n",
       "    <tr>\n",
       "      <th>1898</th>\n",
       "      <td>Wind Direction</td>\n",
       "      <td>Southwest</td>\n",
       "    </tr>\n",
       "    <tr>\n",
       "      <th>1899</th>\n",
       "      <td>Wind Speed</td>\n",
       "      <td>12G24mph</td>\n",
       "    </tr>\n",
       "    <tr>\n",
       "      <th>1900</th>\n",
       "      <td>Snowfall</td>\n",
       "      <td>Trace</td>\n",
       "    </tr>\n",
       "    <tr>\n",
       "      <th>1901</th>\n",
       "      <td>Snow Line</td>\n",
       "      <td>1500'</td>\n",
       "    </tr>\n",
       "  </tbody>\n",
       "</table>\n",
       "</div>"
      ],
      "text/plain": [
       "     Flathead Range & Glacier NP Conditions in the last 24hrs\n",
       "1896                 Cloud Cover                Mostly Cloudy\n",
       "1897                Temperatures     Low: 14° F | High: 22° F\n",
       "1898              Wind Direction                    Southwest\n",
       "1899                  Wind Speed                     12G24mph\n",
       "1900                    Snowfall                        Trace\n",
       "1901                   Snow Line                        1500'"
      ]
     },
     "metadata": {},
     "output_type": "display_data"
    }
   ],
   "source": [
    "weather = weather_df[weather_df.date==next_day_str]\n",
    "areas = ['Whitefish Range','Swan Range','Flathead Range & Glacier NP']\n",
    "yesterday_cols = [col for col in weather.columns if '24hrs' in col]\n",
    "for area in areas:\n",
    "    display(area)\n",
    "    \n",
    "    subdf = weather[weather[area].notnull()]\n",
    "    non_null_yesterday_cols = [col for col in yesterday_cols if subdf[col].notnull().any()]\n",
    "    display(subdf[[area] + non_null_yesterday_cols])"
   ]
  },
  {
   "cell_type": "markdown",
   "id": "93586807",
   "metadata": {},
   "source": [
    "## 1.5 Observations ON Feb 8 2023\n",
    "#### Please review all observations on the DAY of your hindcast date of Feb 8, 2023, both the avalanche tab and the observations tab"
   ]
  },
  {
   "cell_type": "code",
   "execution_count": 53,
   "id": "6eeff7cc",
   "metadata": {},
   "outputs": [
    {
     "data": {
      "text/html": [
       "\n",
       "        <iframe\n",
       "            width=\"700\"\n",
       "            height=\"400\"\n",
       "            src=\"https://flatheadavalanche.org/observations/read-observations/#/view/observations?startDate=%222023-02-08 00:00:00%22&endDate=%222023-02-08 00:00:00%22&season=2023\"\n",
       "            frameborder=\"0\"\n",
       "            allowfullscreen\n",
       "            \n",
       "        ></iframe>\n",
       "        "
      ],
      "text/plain": [
       "<IPython.lib.display.IFrame at 0x7b8a32f6e250>"
      ]
     },
     "metadata": {},
     "output_type": "display_data"
    }
   ],
   "source": [
    "link = f\"https://flatheadavalanche.org/observations/read-observations/#/view/observations?startDate=%22{date_obj}%22&endDate=%22{date_obj}%22&season={2023}\"\n",
    "display(IFrame(link, width=700, height=400))"
   ]
  },
  {
   "cell_type": "markdown",
   "id": "c09d5a31",
   "metadata": {},
   "source": [
    "### 1.2.1 Summary of Observations on Hindcast Date"
   ]
  },
  {
   "cell_type": "code",
   "execution_count": 96,
   "id": "879b8552",
   "metadata": {},
   "outputs": [],
   "source": [
    "from dateutil.parser import parse\n",
    "import re\n",
    "def convert_to_iso_format(date_str):\n",
    "    match = re.search(r'(\\bJan\\b|\\bFeb\\b|\\bMar\\b|\\bApr\\b|\\bMay\\b|\\bJun\\b|\\bJul\\b|\\bAug\\b|\\bSep\\b|\\bOct\\b|\\bNov\\b|\\bDec\\b)\\s+\\d{1,2},\\s+\\d{4}', date_str)\n",
    "    if match:\n",
    "        date_part = match.group()\n",
    "        date = parse(date_part, fuzzy=True)\n",
    "        return date.strftime('%Y-%m-%d')\n",
    "    else:\n",
    "        return \"Invalid date format\""
   ]
  },
  {
   "cell_type": "code",
   "execution_count": 104,
   "id": "713c53ed",
   "metadata": {},
   "outputs": [
    {
     "name": "stdout",
     "output_type": "stream",
     "text": [
      "\n",
      "\n",
      "\n",
      "----\n",
      "forecaster\n",
      "\n",
      "--\n",
      "Into the Swan! Let's see what this storm left for us:\n",
      "-We found exceptional riding with 4-10 inches of recent snow.  \n",
      "-We noticed a handful of small, natural soft slab avalanches that failed in wind drifted snow during the last week. \n",
      "-We stomped though wind drifted snow with minimal cracking. \n",
      "-Cornice were growing and we were able to chunk off the top 30cm with some jumping. \n",
      "-We found buried surface hoar 55-90cm deep in our testpits.\n",
      "-An extended column test at 7200 feet, NE aspect produced a propagating result with moderate force.\n",
      "We backed away from riding a steep, treed bowl.\n",
      "\n",
      "--\n",
      "Today we were Flathead bound to observe snow totals and see how sensitive freshly formed wind slabs are. We also wanted to assess buried weak layers in the upper snowpack.\n",
      "- We initiated many shooting cracks and triggered a few very small slabs. We skied a windward aspect and found isolated pockets throughout our descent. \n",
      "- Freshly formed drifts were thicker, but stubborn on more wind-loaded aspects. \n",
      "- We found weak faceted snow roughly 40 cm and 50 cm down from the surface. This similar structure was found in a number of neighboring drainages. We had nonpropagating results in extended column tests. See snow profile for more info.\n",
      "We chose to ski steep terrain on windward aspects below 6500 feet. This did require attention to surface texture since winds drifted snow further down the slope than anticipated. \n",
      "profile and photos soon.\n",
      "\n",
      "\n",
      "\n",
      "----\n",
      "public\n",
      "\n",
      "--\n",
      "SE Facing @ 6512 (Upper)Ghoulies side country Total snowpack: 210cmECTN11 @ 195cmECTN29 @ 177cm\n",
      "\n",
      "--\n",
      "Ghoulie Point. Elv.6400ft. Aspect: Eastern facing wind-affected slope. Slope Angle: 20-25 Degrees. Performed 4 ECT tests. No propagation on tests 1-3. Propagation on test 4 with hard force. Multiple weak layers in new storm layers from last night, not quite forming a slab yet.\n",
      "\n",
      "--\n",
      "We went out hunting sheltered pow turns, and were rewarded. It was a \"look-but-don't-touch\" kind of day, as the 30-35 degree entries into the zones we hoped to ski were very wind loaded, with wind slabs on test slopes proving easily reactive. We skied a mellow (15-30 degree) east facing run in a sheltered area and enjoyed soft turns. We skied down the N/NE ridge we ascended. We descended steeper (35-45 degree) terrain below 5000', as we had not observed wind loading or instability at that elevation. The new snow sluffed fairly fast on the recent crust, but was easily manageable. We estimate a widespread 8\" of new snow above 5000' fell in this zone. Below 5000' and in the parking area below 4000' there was about 3\" of new snow. Graupel was common on the surface and widespread throughout the new snow.We observed what looked to be an avalanche failing on a steep SE facing chute around 6000' off of Essex Mountain, likely from loading within the last 24hrs. Tough to see much from a distance, but it looked to have failed on the old/new snow interface. D1/R2.\n",
      "\n",
      "--\n",
      "Some patchy sun through the day. Growing  cornices on the divide. Fun skiing in the sheltered terrain.\n",
      "\n",
      "--\n",
      "Snow pit tests were conducted around 2pm in Whitefish Mountain Resort side country on a 29° southeast facing slope of Old Man’s bowl at approximately 6700ft of elevation.\n"
     ]
    }
   ],
   "source": [
    "obs = obs_df[obs_df['date']==date]\n",
    "for observer in ['forecaster','public']:\n",
    "    print(f'\\n\\n\\n----\\n{observer}')\n",
    "    for summary in obs[obs['Observer type']==observer]['Observation Summary']:\n",
    "        print(f'\\n--\\n{summary}')"
   ]
  },
  {
   "cell_type": "markdown",
   "id": "cc875057",
   "metadata": {},
   "source": [
    "## 1.6 AAI On Feb 8, 2023"
   ]
  },
  {
   "cell_type": "code",
   "execution_count": null,
   "id": "7d6b23b2",
   "metadata": {},
   "outputs": [],
   "source": [
    "### implement"
   ]
  },
  {
   "attachments": {
    "image.png": {
     "image/png": "[encoded data removed]"
    }
   },
   "cell_type": "markdown",
   "id": "ce90331b",
   "metadata": {},
   "source": [
    "![image.png](attachment:image.png)"
   ]
  },
  {
   "cell_type": "markdown",
   "id": "442b1524",
   "metadata": {},
   "source": [
    "^^ Use this from SLF?  Revisit CAIC paper too"
   ]
  },
  {
   "cell_type": "markdown",
   "id": "12a93b01",
   "metadata": {},
   "source": [
    "## 1.7 Questions"
   ]
  },
  {
   "cell_type": "code",
   "execution_count": 116,
   "id": "23c855f2",
   "metadata": {},
   "outputs": [
    {
     "name": "stderr",
     "output_type": "stream",
     "text": [
      "/tmp/ipykernel_1253312/1037000810.py:4: DeprecationWarning: Importing display from IPython.core.display is deprecated since IPython 7.14, please import from IPython display\n",
      "  from IPython.core.display import display, HTML\n"
     ]
    },
    {
     "data": {
      "text/html": [
       "\"\"\"\n",
       "<form action=\"/submit\" method=\"post\">\n",
       "  <fieldset>\n",
       "    <legend>Avalanche Forecast Form</legend>\n",
       "    \n",
       "    <label for=\"t1-danger\">1) What would you forecast as the T1 danger on Feb 8, 2023?</label>\n",
       "    <select id=\"t1-danger\" name=\"t1-danger\">\n",
       "      <option value=\"low\">Low</option>\n",
       "      <option value=\"moderate\">Moderate</option>\n",
       "      <option value=\"considerable\">Considerable</option>\n",
       "      <option value=\"high\">High</option>\n",
       "      <option value=\"extreme\">Extreme</option>\n",
       "    </select>\n",
       "    \n",
       "    <fieldset>\n",
       "      <legend>2) What would you forecast as the top problem(s) for Feb 8, 2023?</legend>\n",
       "      \n",
       "      <label for=\"problem1\">Problem 1:</label>\n",
       "      <input type=\"text\" id=\"problem1\" name=\"problem1\"><br>\n",
       "      \n",
       "      <label for=\"likelihood1\">Likelihood:</label>\n",
       "      <input type=\"text\" id=\"likelihood1\" name=\"likelihood1\"><br>\n",
       "      \n",
       "      <label for=\"size1\">Size:</label>\n",
       "      <input type=\"text\" id=\"size1\" name=\"size1\"><br>\n",
       "      \n",
       "      <label for=\"problem2\">Problem 2:</label>\n",
       "      <input type=\"text\" id=\"problem2\" name=\"problem2\"><br>\n",
       "      \n",
       "      <label for=\"likelihood2\">Likelihood:</label>\n",
       "      <input type=\"text\" id=\"likelihood2\" name=\"likelihood2\"><br>\n",
       "      \n",
       "      <label for=\"size2\">Size:</label>\n",
       "      <input type=\"text\" id=\"size2\" name=\"size2\"><br>\n",
       "      \n",
       "      <label for=\"problem3\">Problem 3:</label>\n",
       "      <input type=\"text\" id=\"problem3\" name=\"problem3\"><br>\n",
       "      \n",
       "      <label for=\"likelihood3\">Likelihood:</label>\n",
       "      <input type=\"text\" id=\"likelihood3\" name=\"likelihood3\"><br>\n",
       "      \n",
       "      <label for=\"size3\">Size:</label>\n",
       "      <input type=\"text\" id=\"size3\" name=\"size3\">\n",
       "    </fieldset>\n",
       "    \n",
       "    <fieldset>\n",
       "      <legend>3) Please rank the top three factors that affected your assessment</legend>\n",
       "      \n",
       "      <label for=\"factor1\">Factor 1:</label>\n",
       "      <select id=\"factor1\" name=\"factor1\">\n",
       "        <option value=\"new_snowfall\">New snowfall</option>\n",
       "        <option value=\"wind\">Wind</option>\n",
       "        <option value=\"temperatures\">Temperatures</option>\n",
       "        <option value=\"snowpack_observations\">Snowpack observations prior to forecast date</option>\n",
       "        <option value=\"general_observations\">General observations on forecast date</option>\n",
       "        <option value=\"aai\">AAI on forecast date</option>\n",
       "      </select><br>\n",
       "      \n",
       "      <label for=\"factor2\">Factor 2:</label>\n",
       "      <select id=\"factor2\" name=\"factor2\">\n",
       "        <option value=\"new_snowfall\">New snowfall</option>\n",
       "        <option value=\"wind\">Wind</option>\n",
       "        <option value=\"temperatures\">Temperatures</option>\n",
       "        <option value=\"snowpack_observations\">Snowpack observations prior to forecast date</option>\n",
       "        <option value=\"general_observations\">General observations on forecast date</option>\n",
       "        <option value=\"aai\">AAI on forecast date</option>\n",
       "      </select><br>\n",
       "      \n",
       "      <label for=\"factor3\">Factor 3:</label>\n",
       "      <select id=\"factor3\" name=\"factor3\">\n",
       "        <option value=\"new_snowfall\">New snowfall</option>\n",
       "        <option value=\"wind\">Wind</option>\n",
       "        <option value=\"temperatures\">Temperatures</option>\n",
       "        <option value=\"snowpack_observations\">Snowpack observations prior to forecast date</option>\n",
       "        <option value=\"general_observations\">General observations on forecast date</option>\n",
       "        <option value=\"aai\">AAI on forecast date</option>\n",
       "      </select>\n",
       "    </fieldset>\n",
       "    \n",
       "    <input type=\"submit\" value=\"Submit\">\n",
       "  </fieldset>\n",
       "</form>\n",
       "\"\"\""
      ],
      "text/plain": [
       "<IPython.core.display.HTML object>"
      ]
     },
     "metadata": {},
     "output_type": "display_data"
    }
   ],
   "source": [
    "with open('form_html', 'r') as f:\n",
    "    form_html = f.read()\n",
    "\n",
    "from IPython.core.display import display, HTML\n",
    "display(HTML(form_html))"
   ]
  },
  {
   "cell_type": "code",
   "execution_count": null,
   "id": "bf631b4e",
   "metadata": {},
   "outputs": [],
   "source": []
  },
  {
   "cell_type": "code",
   "execution_count": null,
   "id": "81268cc6",
   "metadata": {},
   "outputs": [],
   "source": []
  },
  {
   "cell_type": "markdown",
   "id": "24638705",
   "metadata": {},
   "source": [
    "# 2 Not shown: Actual forecast"
   ]
  },
  {
   "cell_type": "code",
   "execution_count": 46,
   "id": "e3f694cb",
   "metadata": {},
   "outputs": [
    {
     "data": {
      "text/html": [
       "<div>\n",
       "<style scoped>\n",
       "    .dataframe tbody tr th:only-of-type {\n",
       "        vertical-align: middle;\n",
       "    }\n",
       "\n",
       "    .dataframe tbody tr th {\n",
       "        vertical-align: top;\n",
       "    }\n",
       "\n",
       "    .dataframe thead th {\n",
       "        text-align: right;\n",
       "    }\n",
       "</style>\n",
       "<table border=\"1\" class=\"dataframe\">\n",
       "  <thead>\n",
       "    <tr style=\"text-align: right;\">\n",
       "      <th></th>\n",
       "      <th>author</th>\n",
       "      <th>date</th>\n",
       "      <th>zone</th>\n",
       "      <th>forecast</th>\n",
       "      <th>problems</th>\n",
       "      <th>bottom_line</th>\n",
       "      <th>discussion</th>\n",
       "    </tr>\n",
       "  </thead>\n",
       "  <tbody>\n",
       "    <tr>\n",
       "      <th>60</th>\n",
       "      <td>Sarah Williams</td>\n",
       "      <td>2023-02-08</td>\n",
       "      <td>Whitefish Range</td>\n",
       "      <td>{'upper': 'Considerable', 'middle': 'Moderate'...</td>\n",
       "      <td>[{'problem_type': ' Wind Slab', 'problem_numbe...</td>\n",
       "      <td>You will find dangerous avalanche conditions a...</td>\n",
       "      <td>Both natural and human-triggered avalanches ha...</td>\n",
       "    </tr>\n",
       "    <tr>\n",
       "      <th>188</th>\n",
       "      <td>Sarah Williams</td>\n",
       "      <td>2023-02-08</td>\n",
       "      <td>Swan Range</td>\n",
       "      <td>{'upper': 'Considerable', 'middle': 'Moderate'...</td>\n",
       "      <td>[{'problem_type': ' Persistent Slab', 'problem...</td>\n",
       "      <td>You will find dangerous avalanche conditions a...</td>\n",
       "      <td>Both natural and human-triggered avalanches ha...</td>\n",
       "    </tr>\n",
       "    <tr>\n",
       "      <th>317</th>\n",
       "      <td>Sarah Williams</td>\n",
       "      <td>2023-02-08</td>\n",
       "      <td>Flathead Range &amp; Glacier NP</td>\n",
       "      <td>{'upper': 'Considerable', 'middle': 'Moderate'...</td>\n",
       "      <td>[{'problem_type': ' Persistent Slab', 'problem...</td>\n",
       "      <td>You will find dangerous avalanche conditions a...</td>\n",
       "      <td>Both natural and human-triggered avalanches ha...</td>\n",
       "    </tr>\n",
       "  </tbody>\n",
       "</table>\n",
       "</div>"
      ],
      "text/plain": [
       "             author        date                         zone  \\\n",
       "60   Sarah Williams  2023-02-08              Whitefish Range   \n",
       "188  Sarah Williams  2023-02-08                   Swan Range   \n",
       "317  Sarah Williams  2023-02-08  Flathead Range & Glacier NP   \n",
       "\n",
       "                                              forecast  \\\n",
       "60   {'upper': 'Considerable', 'middle': 'Moderate'...   \n",
       "188  {'upper': 'Considerable', 'middle': 'Moderate'...   \n",
       "317  {'upper': 'Considerable', 'middle': 'Moderate'...   \n",
       "\n",
       "                                              problems  \\\n",
       "60   [{'problem_type': ' Wind Slab', 'problem_numbe...   \n",
       "188  [{'problem_type': ' Persistent Slab', 'problem...   \n",
       "317  [{'problem_type': ' Persistent Slab', 'problem...   \n",
       "\n",
       "                                           bottom_line  \\\n",
       "60   You will find dangerous avalanche conditions a...   \n",
       "188  You will find dangerous avalanche conditions a...   \n",
       "317  You will find dangerous avalanche conditions a...   \n",
       "\n",
       "                                            discussion  \n",
       "60   Both natural and human-triggered avalanches ha...  \n",
       "188  Both natural and human-triggered avalanches ha...  \n",
       "317  Both natural and human-triggered avalanches ha...  "
      ]
     },
     "execution_count": 46,
     "metadata": {},
     "output_type": "execute_result"
    }
   ],
   "source": [
    "actual_forecast_rows = forecast_df[forecast_df.date == date].drop(columns = 'Unnamed: 0')\n",
    "actual_forecast_rows"
   ]
  },
  {
   "cell_type": "markdown",
   "id": "de2cd7f8",
   "metadata": {},
   "source": [
    "### 2.1 Not Shown: Actual Forecasted Danger"
   ]
  },
  {
   "cell_type": "code",
   "execution_count": 47,
   "id": "26dc1a08",
   "metadata": {},
   "outputs": [
    {
     "name": "stdout",
     "output_type": "stream",
     "text": [
      "You will find dangerous avalanche conditions at upper elevations, as a result of southwesterly winds and new snow.  Steer around these freshly built slabs on leeward slopes and ridgelines. Consider the consequence of a slide before committing to avalanche terrain. \n"
     ]
    }
   ],
   "source": [
    "print(actual_forecast_rows.iloc[0].bottom_line)"
   ]
  },
  {
   "cell_type": "code",
   "execution_count": 49,
   "id": "146aaa77",
   "metadata": {},
   "outputs": [
    {
     "name": "stdout",
     "output_type": "stream",
     "text": [
      "\n",
      "\n",
      "--------Whitefish Range\n",
      "Forecast:{'upper': 'Considerable', 'middle': 'Moderate', 'lower': 'Low'}\n",
      "\n",
      "\n",
      "--------Swan Range\n",
      "Forecast:{'upper': 'Considerable', 'middle': 'Moderate', 'lower': 'Low'}\n",
      "\n",
      "\n",
      "--------Flathead Range & Glacier NP\n",
      "Forecast:{'upper': 'Considerable', 'middle': 'Moderate', 'lower': 'Low'}\n"
     ]
    }
   ],
   "source": [
    "for zone, forecast in zip(actual_forecast_rows.zone, actual_forecast_rows.forecast):\n",
    "    print(f'\\n\\n--------{zone}')\n",
    "    print(f'Forecast:{forecast}')"
   ]
  },
  {
   "cell_type": "markdown",
   "id": "6774cc3e",
   "metadata": {},
   "source": [
    "### 2.2 Not Shown: Actual Forecasted Problems"
   ]
  },
  {
   "cell_type": "code",
   "execution_count": 50,
   "id": "6da10b98",
   "metadata": {},
   "outputs": [
    {
     "name": "stdout",
     "output_type": "stream",
     "text": [
      "\n",
      "\n",
      "\n",
      "--------Whitefish Range\n",
      "Problem Type:  Wind Slab\n",
      "Problem Number: 1\n",
      "Likelihood: likely\n",
      "Size: Small (D1), Large (D2)\n",
      "Aspect/Elevation: Upper: north, northeast, east, southeast, northwest | Middle: north, northeast, east, southeast, northwest\n",
      "Discussion: Southwesterly winds will continue transporting the new snow near and below ridgelines into 1 to 3-foot slabs. To find these, use your hand or ski pole to feel the texture of the near-surface snow. If it is stiffer or more consolidated, you've found a drift that may be dangerous– if it's on a slope steeper than about 35 degrees and more than about 8 inches thick.  Overnight, weather stations recorded sustained winds capable of transporting snow in all forecast zones. Moderate winds with strong gusts are expected today and, thus, will continue to blow snow into firm slabs. Cracking around your machine or boards is a clue that you've found an unstable slab. Pay attention to the consequences of being caught in even a small slide, as terrain features can amplify the consequences with rocks, cliffs, trees, and other terrain traps.\n",
      "\n",
      "--------------------------------------------------\n",
      "\n",
      "\n",
      "\n",
      "\n",
      "--------Swan Range\n",
      "Problem Type:  Wind Slab\n",
      "Problem Number: 1\n",
      "Likelihood: likely\n",
      "Size: Small (D1), Large (D2)\n",
      "Aspect/Elevation: Upper: north, northeast, east, southeast, northwest | Middle: north, northeast, east, southeast, northwest\n",
      "Discussion: Southwesterly winds will continue transporting the new snow near and below ridgelines into 1 to 3-foot slabs. To find these, use your hand or ski pole to feel the texture of the near-surface snow. If it is stiffer or more consolidated, you've found a drift that may be dangerous– if it's on a slope steeper than about 35 degrees and more than about 8 inches thick.  Overnight, weather stations recorded sustained winds capable of transporting snow in all forecast zones. Moderate winds with strong gusts are expected today and, thus, will continue to blow snow into firm slabs. Cracking around your machine or boards is a clue that you've found an unstable slab. Pay attention to the consequences of being caught in even a small slide, as terrain features can amplify the consequences with rocks, cliffs, trees, and other terrain traps.\n",
      "\n",
      "--------------------------------------------------\n",
      "\n",
      "Problem Type:  Persistent Slab\n",
      "Problem Number: 2\n",
      "Likelihood: possible\n",
      "Size: Small (D1), Large (D2), Very Large (D3)\n",
      "Aspect/Elevation: Upper: north, northeast, east, southeast, northwest | Middle: north, northeast, east, southeast, northwest\n",
      "Discussion: Observers continue to find layers of buried weak snow that are reactive in snowpit tests. This layer is most prevalent on shady aspects 1-2 feet below the surface in the Flathead Range and southern Glacier Park and 2-4 feet below the surface in the Swan Range. This recent snowfall and wind may test buried facets and surface hoar. A surface slide has the potential to step down to this layer, triggering a much larger slide. Continue to choose lower-angle terrain free of overhead hazards and convexities. Slopes with clean runouts are an excellent way to build a margin of safety into your day.\n",
      "\n",
      "--------------------------------------------------\n",
      "\n",
      "\n",
      "\n",
      "\n",
      "--------Flathead Range & Glacier NP\n",
      "Problem Type:  Wind Slab\n",
      "Problem Number: 1\n",
      "Likelihood: likely\n",
      "Size: Small (D1), Large (D2)\n",
      "Aspect/Elevation: Upper: north, northeast, east, southeast, northwest | Middle: north, northeast, east, southeast, northwest\n",
      "Discussion: Southwesterly winds will continue transporting the new snow near and below ridgelines into 1 to 3-foot slabs. To find these, use your hand or ski pole to feel the texture of the near-surface snow. If it is stiffer or more consolidated, you've found a drift that may be dangerous– if it's on a slope steeper than about 35 degrees and more than about 8 inches thick.  Overnight, weather stations recorded sustained winds capable of transporting snow in all forecast zones. Moderate winds with strong gusts are expected today and, thus, will continue to blow snow into firm slabs. Cracking around your machine or boards is a clue that you've found an unstable slab. Pay attention to the consequences of being caught in even a small slide, as terrain features can amplify the consequences with rocks, cliffs, trees, and other terrain traps.\n",
      "\n",
      "--------------------------------------------------\n",
      "\n",
      "Problem Type:  Persistent Slab\n",
      "Problem Number: 2\n",
      "Likelihood: possible\n",
      "Size: Small (D1), Large (D2)\n",
      "Aspect/Elevation: Upper: north, northeast, east, southeast, northwest | Middle: north, northeast, east, southeast, northwest\n",
      "Discussion: Observers continue to find layers of buried weak snow that are reactive in snowpit tests. This layer is most prevalent on shady aspects 1-2 feet below the surface in the Flathead Range and southern Glacier Park and 2-4 feet below the surface in the Swan Range. This recent snowfall and wind may test buried facets and surface hoar. A surface slide has the potential to step down to this layer, triggering a much larger slide. Continue to choose lower-angle terrain free of overhead hazards and convexities. Slopes with clean runouts are an excellent way to build a margin of safety into your day.\n",
      "\n",
      "--------------------------------------------------\n",
      "\n"
     ]
    }
   ],
   "source": [
    "for zone, problems in zip(actual_forecast_rows.zone, actual_forecast_rows.problems):\n",
    "    print(f'\\n\\n\\n--------{zone}')\n",
    "    sorted_avalanche_problems = sorted(problems, key=lambda x: x['problem_number'])\n",
    "    for problem in sorted_avalanche_problems:\n",
    "        print(f\"Problem Type: {problem['problem_type']}\")\n",
    "        print(f\"Problem Number: {problem['problem_number']}\")\n",
    "        print(f\"Likelihood: {problem['likelihood']}\")\n",
    "        print(f\"Size: {', '.join([size for size in problem['size'] if size])}\")\n",
    "        aspect_elevation_str = \" | \".join([f\"{key.capitalize()}: {', '.join(values)}\" for key, values in problem['aspect_elevation'].items() if values])\n",
    "        print(f\"Aspect/Elevation: {aspect_elevation_str}\")\n",
    "        print(f\"Discussion: {problem['discussion']}\")\n",
    "        print(\"\\n\" + \"-\"*50 + \"\\n\")"
   ]
  },
  {
   "cell_type": "code",
   "execution_count": null,
   "id": "efdde01c",
   "metadata": {},
   "outputs": [],
   "source": []
  }
 ],
 "metadata": {
  "kernelspec": {
   "display_name": "Python 3 (ipykernel)",
   "language": "python",
   "name": "python3"
  },
  "language_info": {
   "codemirror_mode": {
    "name": "ipython",
    "version": 3
   },
   "file_extension": ".py",
   "mimetype": "text/x-python",
   "name": "python",
   "nbconvert_exporter": "python",
   "pygments_lexer": "ipython3",
   "version": "3.9.16"
  }
 },
 "nbformat": 4,
 "nbformat_minor": 5
}
